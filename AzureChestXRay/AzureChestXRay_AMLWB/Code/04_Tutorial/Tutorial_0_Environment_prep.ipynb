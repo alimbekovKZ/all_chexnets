{
 "cells": [
  {
   "cell_type": "markdown",
   "metadata": {},
   "source": [
    "# Dependency"
   ]
  },
  {
   "cell_type": "code",
   "execution_count": 5,
   "metadata": {
    "scrolled": false
   },
   "outputs": [
    {
     "name": "stdout",
     "output_type": "stream",
     "text": [
      "\u001b[33mThe directory '/home/xiaoyzhu/.cache/pip/http' or its parent directory is not owned by the current user and the cache has been disabled. Please check the permissions and owner of that directory. If executing pip with sudo, you may want sudo's -H flag.\u001b[0m\n",
      "\u001b[33mThe directory '/home/xiaoyzhu/.cache/pip' or its parent directory is not owned by the current user and caching wheels has been disabled. check the permissions and owner of that directory. If executing pip with sudo, you may want sudo's -H flag.\u001b[0m\n",
      "Requirement already up-to-date: pip in /anaconda/envs/py35/lib/python3.5/site-packages (18.0)\n",
      "\u001b[33mThe directory '/home/xiaoyzhu/.cache/pip/http' or its parent directory is not owned by the current user and the cache has been disabled. Please check the permissions and owner of that directory. If executing pip with sudo, you may want sudo's -H flag.\u001b[0m\n",
      "\u001b[33mThe directory '/home/xiaoyzhu/.cache/pip' or its parent directory is not owned by the current user and caching wheels has been disabled. check the permissions and owner of that directory. If executing pip with sudo, you may want sudo's -H flag.\u001b[0m\n",
      "Collecting git+https://github.com/xiaoyongzhu/keras-contrib.git\n",
      "  Cloning https://github.com/xiaoyongzhu/keras-contrib.git to /tmp/pip-req-build-hoxojecr\n",
      "Requirement already satisfied (use --upgrade to upgrade): keras-contrib==2.0.8 from git+https://github.com/xiaoyongzhu/keras-contrib.git in /anaconda/envs/py35/lib/python3.5/site-packages\n",
      "Requirement already satisfied: keras in /anaconda/envs/py35/lib/python3.5/site-packages (from keras-contrib==2.0.8) (2.2.0)\n",
      "Requirement already satisfied: h5py in /anaconda/envs/py35/lib/python3.5/site-packages (from keras->keras-contrib==2.0.8) (2.7.1)\n",
      "Requirement already satisfied: keras-applications==1.0.2 in /anaconda/envs/py35/lib/python3.5/site-packages (from keras->keras-contrib==2.0.8) (1.0.2)\n",
      "Requirement already satisfied: numpy>=1.9.1 in /anaconda/envs/py35/lib/python3.5/site-packages (from keras->keras-contrib==2.0.8) (1.14.5)\n",
      "Requirement already satisfied: pyyaml in /anaconda/envs/py35/lib/python3.5/site-packages (from keras->keras-contrib==2.0.8) (3.12)\n",
      "Requirement already satisfied: keras-preprocessing==1.0.1 in /anaconda/envs/py35/lib/python3.5/site-packages (from keras->keras-contrib==2.0.8) (1.0.1)\n",
      "Requirement already satisfied: scipy>=0.14 in /anaconda/envs/py35/lib/python3.5/site-packages (from keras->keras-contrib==2.0.8) (1.1.0)\n",
      "Requirement already satisfied: six>=1.9.0 in /anaconda/envs/py35/lib/python3.5/site-packages (from keras->keras-contrib==2.0.8) (1.10.0)\n",
      "\u001b[33mThe directory '/home/xiaoyzhu/.cache/pip/http' or its parent directory is not owned by the current user and the cache has been disabled. Please check the permissions and owner of that directory. If executing pip with sudo, you may want sudo's -H flag.\u001b[0m\n",
      "\u001b[33mThe directory '/home/xiaoyzhu/.cache/pip' or its parent directory is not owned by the current user and caching wheels has been disabled. check the permissions and owner of that directory. If executing pip with sudo, you may want sudo's -H flag.\u001b[0m\n",
      "Collecting git+https://github.com/onnx/onnxmltools\n",
      "  Cloning https://github.com/onnx/onnxmltools to /tmp/pip-req-build-d14oofzc\n",
      "Requirement already satisfied (use --upgrade to upgrade): onnxmltools==1.2.2.129 from git+https://github.com/onnx/onnxmltools in /anaconda/envs/py35/lib/python3.5/site-packages\n",
      "Requirement already satisfied: six in /anaconda/envs/py35/lib/python3.5/site-packages (from onnxmltools==1.2.2.129) (1.10.0)\n",
      "Requirement already satisfied: numpy in /anaconda/envs/py35/lib/python3.5/site-packages (from onnxmltools==1.2.2.129) (1.14.5)\n",
      "Requirement already satisfied: protobuf in /anaconda/envs/py35/lib/python3.5/site-packages (from onnxmltools==1.2.2.129) (3.6.0)\n",
      "Requirement already satisfied: onnx in /anaconda/envs/py35/lib/python3.5/site-packages (from onnxmltools==1.2.2.129) (1.2.2)\n",
      "Requirement already satisfied: setuptools in /anaconda/envs/py35/lib/python3.5/site-packages (from protobuf->onnxmltools==1.2.2.129) (39.1.0)\n",
      "Requirement already satisfied: typing-extensions>=3.6.2.1 in /anaconda/envs/py35/lib/python3.5/site-packages (from onnx->onnxmltools==1.2.2.129) (3.6.5)\n",
      "Requirement already satisfied: typing>=3.6.4 in /anaconda/envs/py35/lib/python3.5/site-packages (from onnx->onnxmltools==1.2.2.129) (3.6.4)\n",
      "\u001b[33mThe directory '/home/xiaoyzhu/.cache/pip/http' or its parent directory is not owned by the current user and the cache has been disabled. Please check the permissions and owner of that directory. If executing pip with sudo, you may want sudo's -H flag.\u001b[0m\n",
      "\u001b[33mThe directory '/home/xiaoyzhu/.cache/pip' or its parent directory is not owned by the current user and caching wheels has been disabled. check the permissions and owner of that directory. If executing pip with sudo, you may want sudo's -H flag.\u001b[0m\n",
      "Collecting git+https://github.com/apple/coremltools\n",
      "  Cloning https://github.com/apple/coremltools to /tmp/pip-req-build-lt8q6g0u\n",
      "Requirement already satisfied (use --upgrade to upgrade): coremltools==2.0b1 from git+https://github.com/apple/coremltools in /anaconda/envs/py35/lib/python3.5/site-packages\n",
      "Requirement already satisfied: numpy>=1.10.0 in /anaconda/envs/py35/lib/python3.5/site-packages (from coremltools==2.0b1) (1.14.5)\n",
      "Requirement already satisfied: protobuf>=3.1.0 in /anaconda/envs/py35/lib/python3.5/site-packages (from coremltools==2.0b1) (3.6.0)\n",
      "Requirement already satisfied: six==1.10.0 in /anaconda/envs/py35/lib/python3.5/site-packages (from coremltools==2.0b1) (1.10.0)\n",
      "Requirement already satisfied: setuptools in /anaconda/envs/py35/lib/python3.5/site-packages (from protobuf>=3.1.0->coremltools==2.0b1) (39.1.0)\n"
     ]
    }
   ],
   "source": [
    "!sudo /anaconda/envs/py35/bin/python -m pip install --upgrade pip\n",
    "!sudo /anaconda/envs/py35/bin/python -m pip install git+https://github.com/xiaoyongzhu/keras-contrib.git\n",
    "# may need to use this repo instead: https://github.com/xiaoyongzhu/keras-contrib.git\n",
    "!sudo /anaconda/envs/py35/bin/python -m pip install git+https://github.com/onnx/onnxmltools\n",
    "!sudo /anaconda/envs/py35/bin/python -m pip install git+https://github.com/apple/coremltools\n",
    "!sudo mkdir -p /usr/local/share/xraytutorial\n",
    "!sudo chmod 666 /usr/local/share/xraytutorial"
   ]
  },
  {
   "cell_type": "markdown",
   "metadata": {},
   "source": [
    "# Create Users"
   ]
  },
  {
   "cell_type": "code",
   "execution_count": 2,
   "metadata": {},
   "outputs": [],
   "source": [
    "!sudo mkdir -p /usr/local/share/xraytutorial\n",
    "!sudo chmod 777 /usr/local/share/xraytutorial\n",
    "!sudo mkdir -p /mnt/xraytutorial\n",
    "!sudo chmod 777 /mnt/xraytutorial"
   ]
  },
  {
   "cell_type": "code",
   "execution_count": 6,
   "metadata": {
    "scrolled": false
   },
   "outputs": [
    {
     "name": "stdout",
     "output_type": "stream",
     "text": [
      "sudo useradd -p22tFtxxh45K.Y xrayuser0 -m\n",
      "xrayuser0 creation failed\n",
      "sudo useradd -p22tFtxxh45K.Y xrayuser1 -m\n",
      "xrayuser1 creation failed\n",
      "sudo useradd -p22tFtxxh45K.Y xrayuser2 -m\n",
      "xrayuser2 creation failed\n",
      "sudo useradd -p22tFtxxh45K.Y xrayuser3 -m\n",
      "xrayuser3 creation failed\n",
      "sudo useradd -p22tFtxxh45K.Y xrayuser4 -m\n",
      "xrayuser4 creation failed\n",
      "sudo useradd -p22tFtxxh45K.Y xrayuser5 -m\n",
      "xrayuser5 creation failed\n",
      "sudo useradd -p22tFtxxh45K.Y xrayuser6 -m\n",
      "xrayuser6 creation failed\n",
      "sudo useradd -p22tFtxxh45K.Y xrayuser7 -m\n",
      "xrayuser7 creation failed\n",
      "sudo useradd -p22tFtxxh45K.Y xrayuser8 -m\n",
      "xrayuser8 creation failed\n",
      "sudo useradd -p22tFtxxh45K.Y xrayuser9 -m\n",
      "xrayuser9 creation failed\n",
      "sudo useradd -p22tFtxxh45K.Y xrayuser10 -m\n",
      "xrayuser10 creation failed\n",
      "sudo useradd -p22tFtxxh45K.Y xrayuser11 -m\n",
      "xrayuser11 creation failed\n",
      "sudo useradd -p22tFtxxh45K.Y xrayuser12 -m\n",
      "xrayuser12 creation failed\n",
      "sudo useradd -p22tFtxxh45K.Y xrayuser13 -m\n",
      "xrayuser13 creation failed\n",
      "sudo useradd -p22tFtxxh45K.Y xrayuser14 -m\n",
      "xrayuser14 creation failed\n",
      "sudo useradd -p22tFtxxh45K.Y xrayuser15 -m\n",
      "xrayuser15 creation failed\n",
      "sudo useradd -p22tFtxxh45K.Y xrayuser16 -m\n",
      "xrayuser16 creation failed\n",
      "sudo useradd -p22tFtxxh45K.Y xrayuser17 -m\n",
      "xrayuser17 creation failed\n",
      "sudo useradd -p22tFtxxh45K.Y xrayuser18 -m\n",
      "xrayuser18 creation failed\n",
      "sudo useradd -p22tFtxxh45K.Y xrayuser19 -m\n",
      "xrayuser19 creation failed\n",
      "sudo useradd -p22tFtxxh45K.Y xrayuser20 -m\n",
      "xrayuser20 creation failed\n",
      "sudo useradd -p22tFtxxh45K.Y xrayuser21 -m\n",
      "xrayuser21 creation failed\n",
      "sudo useradd -p22tFtxxh45K.Y xrayuser22 -m\n",
      "xrayuser22 creation failed\n",
      "sudo useradd -p22tFtxxh45K.Y xrayuser23 -m\n",
      "xrayuser23 creation failed\n",
      "sudo useradd -p22tFtxxh45K.Y xrayuser24 -m\n",
      "xrayuser24 creation failed\n",
      "sudo useradd -p22tFtxxh45K.Y xrayuser25 -m\n",
      "xrayuser25 creation failed\n",
      "sudo useradd -p22tFtxxh45K.Y xrayuser26 -m\n",
      "xrayuser26 creation failed\n",
      "sudo useradd -p22tFtxxh45K.Y xrayuser27 -m\n",
      "xrayuser27 creation failed\n",
      "sudo useradd -p22tFtxxh45K.Y xrayuser28 -m\n",
      "xrayuser28 creation failed\n",
      "sudo useradd -p22tFtxxh45K.Y xrayuser29 -m\n",
      "xrayuser29 creation failed\n",
      "sudo useradd -p22tFtxxh45K.Y xrayuser30 -m\n",
      "xrayuser30 creation failed\n",
      "sudo useradd -p22tFtxxh45K.Y xrayuser31 -m\n",
      "xrayuser31 creation failed\n",
      "sudo useradd -p22tFtxxh45K.Y xrayuser32 -m\n",
      "xrayuser32 creation failed\n",
      "sudo useradd -p22tFtxxh45K.Y xrayuser33 -m\n",
      "xrayuser33 creation failed\n",
      "sudo useradd -p22tFtxxh45K.Y xrayuser34 -m\n",
      "xrayuser34 creation failed\n",
      "sudo useradd -p22tFtxxh45K.Y xrayuser35 -m\n",
      "xrayuser35 creation failed\n",
      "sudo useradd -p22tFtxxh45K.Y xrayuser36 -m\n",
      "xrayuser36 creation failed\n",
      "sudo useradd -p22tFtxxh45K.Y xrayuser37 -m\n",
      "xrayuser37 creation failed\n",
      "sudo useradd -p22tFtxxh45K.Y xrayuser38 -m\n",
      "xrayuser38 creation failed\n",
      "sudo useradd -p22tFtxxh45K.Y xrayuser39 -m\n",
      "xrayuser39 creation failed\n"
     ]
    }
   ],
   "source": [
    "import os\n",
    "import crypt\n",
    "import shutil \n",
    "\n",
    "total_user_amount = 40\n",
    "username_prefix = \"xrayuser\"\n",
    "password =\"xrayuserpw\" \n",
    "\n",
    "for i in range(total_user_amount):\n",
    "    username = username_prefix+str(i)\n",
    "    encPass = crypt.crypt(password,\"22\")\n",
    "    cmd = \"sudo useradd -p\"+encPass+\" \" + username + \" -m\"\n",
    "    print(cmd)\n",
    "    ret = os.system(cmd)\n",
    "    if ret == 0:\n",
    "        cmd = \"sudo cp -r ../../../../AzureChestXRay/  /home/\" + username + \"/notebooks/\"\n",
    "        print(cmd)\n",
    "        os.system(cmd)\n",
    "        cmd = \"sudo chown -R \" + username + \" /home/\"+ username + \"/notebooks/AzureChestXRay/\"\n",
    "        os.system(cmd)\n",
    "        print(username, \"is created!\")\n",
    "        \n",
    "    else:\n",
    "        print(username, \"creation failed\")\n",
    "# os.system(\"sudo useradd -m LOGIN\")\n",
    "\n",
    "\n"
   ]
  },
  {
   "cell_type": "markdown",
   "metadata": {},
   "source": [
    "# Prep the files"
   ]
  },
  {
   "cell_type": "code",
   "execution_count": 4,
   "metadata": {},
   "outputs": [],
   "source": [
    "from requests import get  # to make GET request\n",
    "def download(url, file_name):\n",
    "    # open in binary mode\n",
    "    with open(file_name, \"wb\") as file:\n",
    "        # get request\n",
    "        response = get(url)\n",
    "        # write to file\n",
    "        file.write(response.content)\n",
    "\n",
    "data_path = \"/usr/local/share/xraytutorial\"\n",
    "images_path = os.path.join(data_path, 'images.zip')\n",
    "images_extracted_path = os.path.join(data_path, 'images')\n",
    "pre_trained_model_path = os.path.join(data_path, 'chexray_14_weights_712split_epoch_054_val_loss_191.2588.hdf5')\n",
    "label_path = os.path.join(data_path, 'Data_Entry_2017.csv')\n",
    "\n",
    "download('https://chestxray.blob.core.windows.net/chestxraytutorial/tutorial_xray/images.zip', images_path)\n",
    "download('https://chestxray.blob.core.windows.net/chestxraytutorial/tutorial_xray/Data_Entry_2017.csv', label_path)\n",
    "download('https://chestxray.blob.core.windows.net/chestxraytutorial/tutorial_xray/chexray_14_weights_712split_epoch_054_val_loss_191.2588.hdf5', pre_trained_model_path)\n",
    "\n",
    "import zipfile\n",
    "with zipfile.ZipFile(images_path,\"r\") as zip_ref:\n",
    "    zip_ref.extractall(images_extracted_path)"
   ]
  },
  {
   "cell_type": "code",
   "execution_count": 9,
   "metadata": {
    "scrolled": false
   },
   "outputs": [],
   "source": [
    "!sudo chmod -R 0777 /usr/local/share/xraytutorial/"
   ]
  },
  {
   "cell_type": "markdown",
   "metadata": {},
   "source": [
    "# Clean up users"
   ]
  },
  {
   "cell_type": "code",
   "execution_count": 5,
   "metadata": {},
   "outputs": [],
   "source": [
    "#cleanup function\n",
    "for i in range(total_user_amount):\n",
    "    username = \"xrayuser\"+str(i)\n",
    "    os.system(\"sudo userdel -r \" + username)\n"
   ]
  },
  {
   "cell_type": "code",
   "execution_count": null,
   "metadata": {},
   "outputs": [],
   "source": []
  }
 ],
 "metadata": {
  "kernelspec": {
   "display_name": "Python 3",
   "language": "python",
   "name": "python3"
  },
  "language_info": {
   "codemirror_mode": {
    "name": "ipython",
    "version": 3
   },
   "file_extension": ".py",
   "mimetype": "text/x-python",
   "name": "python",
   "nbconvert_exporter": "python",
   "pygments_lexer": "ipython3",
   "version": "3.5.5"
  }
 },
 "nbformat": 4,
 "nbformat_minor": 2
}
