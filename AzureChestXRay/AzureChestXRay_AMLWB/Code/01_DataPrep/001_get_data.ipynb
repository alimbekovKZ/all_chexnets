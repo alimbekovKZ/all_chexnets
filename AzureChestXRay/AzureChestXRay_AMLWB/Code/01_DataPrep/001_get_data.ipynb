{
 "cells": [
  {
   "cell_type": "markdown",
   "metadata": {},
   "source": [
    "## Copies data from blob to local host\n",
    "\n",
    "##### Copyright (C) Microsoft Corporation.  \n",
    "see license file for details "
   ]
  },
  {
   "cell_type": "code",
   "execution_count": 11,
   "metadata": {},
   "outputs": [],
   "source": [
    "# Allow multiple displays per cell\n",
    "\n",
    "from IPython.core.interactiveshell import InteractiveShell\n",
    "InteractiveShell.ast_node_interactivity = \"all\""
   ]
  },
  {
   "cell_type": "code",
   "execution_count": 12,
   "metadata": {},
   "outputs": [
    {
     "data": {
      "text/plain": [
       "'/azureml-share/'"
      ]
     },
     "execution_count": 12,
     "metadata": {},
     "output_type": "execute_result"
    }
   ],
   "source": [
    "# AZUREML_NATIVE_SHARE_DIRECTORY mapping to host dir is set by _nativeSharedDirectory_ in .compute file \n",
    "\n",
    "import os\n",
    "try:\n",
    "    amlWBSharedDir = os.environ['AZUREML_NATIVE_SHARE_DIRECTORY']    \n",
    "except:\n",
    "    amlWBSharedDir = ''\n",
    "    print('not using aml services?')\n",
    "    \n",
    "amlWBSharedDir"
   ]
  },
  {
   "cell_type": "code",
   "execution_count": 13,
   "metadata": {},
   "outputs": [],
   "source": [
    "# Use the Azure Machine Learning data collector to log various metrics\n",
    "\n",
    "from azureml.logging import get_azureml_logger\n",
    "logger = get_azureml_logger()"
   ]
  },
  {
   "cell_type": "code",
   "execution_count": 14,
   "metadata": {},
   "outputs": [],
   "source": [
    "# Use Azure Machine Learning history magic to control history collection\n",
    "# History is off by default, options are \"on\", \"off\", or \"show\"\n",
    "# %azureml history on"
   ]
  },
  {
   "cell_type": "code",
   "execution_count": 15,
   "metadata": {},
   "outputs": [
    {
     "data": {
      "text/plain": [
       "[None]"
      ]
     },
     "execution_count": 15,
     "metadata": {},
     "output_type": "execute_result"
    }
   ],
   "source": [
    "# import utlity functions\n",
    "\n",
    "import sys, os\n",
    "paths_to_append = [os.path.join(os.getcwd(), os.path.join(*(['Code',  'src'])))]\n",
    "def add_path_to_sys_path(path_to_append):\n",
    "    if not (any(path_to_append in paths for paths in sys.path)):\n",
    "        sys.path.append(path_to_append)\n",
    "[add_path_to_sys_path(crt_path) for crt_path in paths_to_append]\n",
    "\n",
    "import azure_chestxray_utils"
   ]
  },
  {
   "cell_type": "code",
   "execution_count": 16,
   "metadata": {},
   "outputs": [
    {
     "data": {
      "text/plain": [
       "'/azureml-run'"
      ]
     },
     "execution_count": 16,
     "metadata": {},
     "output_type": "execute_result"
    },
    {
     "data": {
      "text/plain": [
       "'/azureml-share/chestxray/data/ChestX-ray8'"
      ]
     },
     "execution_count": 16,
     "metadata": {},
     "output_type": "execute_result"
    },
    {
     "data": {
      "text/plain": [
       "'/azureml-share/code/notShared'"
      ]
     },
     "execution_count": 16,
     "metadata": {},
     "output_type": "execute_result"
    },
    {
     "data": {
      "text/plain": [
       "'/azureml-share/chestxray/data/ChestX-ray8/ChestXray-NIHCC'"
      ]
     },
     "execution_count": 16,
     "metadata": {},
     "output_type": "execute_result"
    }
   ],
   "source": [
    "# create the file path variables \n",
    "# create nih_chest_xray_data_dir (in container dir mapped to a host dir for data persistence), \n",
    "# where data will be copied from blob\n",
    "\n",
    "prj_consts = azure_chestxray_utils.chestxray_consts()\n",
    "\n",
    "os.getcwd()\n",
    "\n",
    "\n",
    "data_base_input_dir=os.path.join(amlWBSharedDir, os.path.join(*(prj_consts.BASE_INPUT_DIR_list)))\n",
    "credential_info_path=os.path.join(amlWBSharedDir, os.path.join(*(prj_consts.CREDENTIALS_DIR_list)))\n",
    "nih_chest_xray_data_dir=os.path.join(data_base_input_dir, \n",
    "                                     os.path.join(*(prj_consts.ChestXray_IMAGES_DIR_list)))\n",
    "\n",
    "!mkdir -p {data_base_input_dir}\n",
    "!mkdir -p {credential_info_path}  \n",
    "!mkdir -p {nih_chest_xray_data_dir}\n",
    "\n",
    "data_base_input_dir\n",
    "credential_info_path\n",
    "nih_chest_xray_data_dir"
   ]
  },
  {
   "cell_type": "code",
   "execution_count": 17,
   "metadata": {},
   "outputs": [
    {
     "name": "stdout",
     "output_type": "stream",
     "text": [
      "Credentials file found at /azureml-share/code/notShared/get_data_access_secrets.py\n"
     ]
    },
    {
     "data": {
      "text/plain": [
       "'/azureml-share/code/notShared/get_data_access_secrets.py'"
      ]
     },
     "execution_count": 17,
     "metadata": {},
     "output_type": "execute_result"
    }
   ],
   "source": [
    "# Create this function in file '{credential_info_path}/get_data_access_secrets.py'\n",
    "# def get_blob_credentials():\n",
    "#     dataBlob = 'https://somedatastore.blob.core.windows.net/somecontainer'\n",
    "#     sourceKey = 'somesourceKey'\n",
    "#     return dataBlob, sourceKey\n",
    "# \n",
    "# For example:\n",
    "CredentialsFileName = os.path.join(credential_info_path, 'get_data_access_secrets.py') \n",
    "crt_container = 'https://somedatastore.blob.core.windows.net/somecontainer' \n",
    "crt_source_Key = 'somesourceKey'\n",
    "import os.path \n",
    "if not os.path.isfile(CredentialsFileName): \n",
    "    print('Credentials file not found, will be written!') \n",
    "    with open(CredentialsFileName,'w') as myFile:\n",
    "        myFile.write((\"def get_blob_credentials():\\n\\t\" +\n",
    "        \"dataBlob = '\" + crt_container + \"'\\n\\t\" +\n",
    "        \"sourceKey = '\" + crt_source_Key + \"'\\n\\t\" +\n",
    "        \"return dataBlob, sourceKey\\n\" )) \n",
    "    print(('Credentials file written at ' +CredentialsFileName)) \n",
    "else: \n",
    "    print(('Credentials file found at ' + CredentialsFileName))\n",
    "    \n",
    "# check CredentialsFileName existence and print content if needed\n",
    "\n",
    "credentials_file_name = os.path.join(*([credential_info_path, 'get_data_access_secrets.py']))\n",
    "credentials_file_name\n",
    "# !cat {credentials_file_name}"
   ]
  },
  {
   "cell_type": "code",
   "execution_count": 18,
   "metadata": {},
   "outputs": [],
   "source": [
    "# read credentials info\n",
    "\n",
    "import sys\n",
    "def prepend_path_to_sys_path(path_to_append):\n",
    "    if not (any(path_to_append in paths for paths in sys.path)):\n",
    "        sys.path.append(path_to_append)\n",
    "prepend_path_to_sys_path(credential_info_path)         \n",
    "import get_data_access_secrets   \n",
    "crt_container, crt_key = get_data_access_secrets.get_blob_credentials()"
   ]
  },
  {
   "cell_type": "code",
   "execution_count": 19,
   "metadata": {},
   "outputs": [],
   "source": [
    "#check azcopy is available. Uncomment second line to print _response_ if needed\n",
    "\n",
    "response = !azcopy\n",
    "# response"
   ]
  },
  {
   "cell_type": "code",
   "execution_count": 20,
   "metadata": {},
   "outputs": [],
   "source": [
    "# copy data to local host dir\n",
    "# add {  --source-key {crt_key}  } if needed\n",
    "\n",
    "answer = !yes | azcopy \\\n",
    "    --source {crt_container} \\\n",
    "    --destination {nih_chest_xray_data_dir} \\\n",
    "    --recursive"
   ]
  },
  {
   "cell_type": "code",
   "execution_count": 21,
   "metadata": {},
   "outputs": [
    {
     "data": {
      "text/plain": [
       "['[2018/02/06 05:19:05] Transfer summary:',\n",
       " '-----------------',\n",
       " 'Total files transferred: 112120',\n",
       " 'Transfer successfully:   112120',\n",
       " 'Transfer skipped:        0',\n",
       " 'Transfer failed:         0',\n",
       " 'Elapsed time:            00.00:09:57']"
      ]
     },
     "execution_count": 21,
     "metadata": {},
     "output_type": "execute_result"
    }
   ],
   "source": [
    "answer[-7:]"
   ]
  },
  {
   "cell_type": "code",
   "execution_count": 22,
   "metadata": {},
   "outputs": [
    {
     "data": {
      "text/plain": [
       "'/azureml-share/chestxray/data/ChestX-ray8/ChestXray-NIHCC'"
      ]
     },
     "execution_count": 22,
     "metadata": {},
     "output_type": "execute_result"
    },
    {
     "name": "stdout",
     "output_type": "stream",
     "text": [
      "112120\r\n"
     ]
    }
   ],
   "source": [
    "nih_chest_xray_data_dir\n",
    "!find $nih_chest_xray_data_dir -type f | wc -l"
   ]
  },
  {
   "cell_type": "code",
   "execution_count": 23,
   "metadata": {},
   "outputs": [],
   "source": [
    "#  run below command in amlwb cli to save current sessin as html\n",
    "# jupyter nbconvert --to html .\\Code\\01_DataPrep\\001_get_data.ipynb"
   ]
  }
 ],
 "metadata": {
  "kernelspec": {
   "display_name": "azure_chestxray_lung_disease gpucomputecontext",
   "language": "python",
   "name": "azure_chestxray_lung_disease_gpucomputecontext"
  },
  "language_info": {
   "codemirror_mode": {
    "name": "ipython",
    "version": 3
   },
   "file_extension": ".py",
   "mimetype": "text/x-python",
   "name": "python",
   "nbconvert_exporter": "python",
   "pygments_lexer": "ipython3",
   "version": "3.5.2"
  }
 },
 "nbformat": 4,
 "nbformat_minor": 2
}
